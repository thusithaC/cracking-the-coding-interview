{
 "cells": [
  {
   "cell_type": "markdown",
   "metadata": {},
   "source": [
    "- create a linked list in Scala. \n",
    "- Write code to remove duplicates from an unsorted linked list\n",
    "- FOLLOW UP: How would you solve this problem if a temporary buffer is not allowed?"
   ]
  },
  {
   "cell_type": "code",
   "execution_count": 24,
   "metadata": {},
   "outputs": [
    {
     "data": {
      "text/plain": [
       "defined \u001b[32mtrait\u001b[39m \u001b[36mConsInterface\u001b[39m\n",
       "defined \u001b[32mobject\u001b[39m \u001b[36mNilCons\u001b[39m\n",
       "defined \u001b[32mclass\u001b[39m \u001b[36mCons\u001b[39m"
      ]
     },
     "execution_count": 24,
     "metadata": {},
     "output_type": "execute_result"
    }
   ],
   "source": [
    "// Linked list: Node class with a value and a reference\n",
    "\n",
    "sealed trait ConsInterface[+A] {\n",
    "    def value: A\n",
    "    def next: ConsInterface[A]\n",
    "}\n",
    "\n",
    "object NilCons extends ConsInterface[Nothing] {\n",
    "    def value = throw new NoSuchElementException(\"head of empty list\")\n",
    "    def next = throw new UnsupportedOperationException(\"tail of empty list\")\n",
    "    override def toString = \"Nil\"\n",
    "}\n",
    "\n",
    "case class Cons[+A] (value: A, next: ConsInterface[A]) extends ConsInterface[A] {\n",
    "    override def toString = s\"head: $value, next:\"  + next.toString\n",
    "}\n",
    "\n"
   ]
  },
  {
   "cell_type": "code",
   "execution_count": 25,
   "metadata": {},
   "outputs": [
    {
     "data": {
      "text/plain": [
       "\u001b[36mc1\u001b[39m: \u001b[32mCons\u001b[39m[\u001b[32mInt\u001b[39m] = \u001b[33mCons\u001b[39m(\u001b[32m1\u001b[39m, Nil)\n",
       "\u001b[36mc2\u001b[39m: \u001b[32mCons\u001b[39m[\u001b[32mInt\u001b[39m] = \u001b[33mCons\u001b[39m(\u001b[32m2\u001b[39m, \u001b[33mCons\u001b[39m(\u001b[32m1\u001b[39m, Nil))\n",
       "\u001b[36mc3\u001b[39m: \u001b[32mCons\u001b[39m[\u001b[32mInt\u001b[39m] = \u001b[33mCons\u001b[39m(\u001b[32m3\u001b[39m, \u001b[33mCons\u001b[39m(\u001b[32m2\u001b[39m, \u001b[33mCons\u001b[39m(\u001b[32m1\u001b[39m, Nil)))\n",
       "\u001b[36mc4\u001b[39m: \u001b[32mCons\u001b[39m[\u001b[32mInt\u001b[39m] = \u001b[33mCons\u001b[39m(\u001b[32m3\u001b[39m, \u001b[33mCons\u001b[39m(\u001b[32m3\u001b[39m, \u001b[33mCons\u001b[39m(\u001b[32m2\u001b[39m, \u001b[33mCons\u001b[39m(\u001b[32m1\u001b[39m, Nil))))\n",
       "\u001b[36mc5\u001b[39m: \u001b[32mCons\u001b[39m[\u001b[32mInt\u001b[39m] = \u001b[33mCons\u001b[39m(\u001b[32m6\u001b[39m, \u001b[33mCons\u001b[39m(\u001b[32m3\u001b[39m, \u001b[33mCons\u001b[39m(\u001b[32m3\u001b[39m, \u001b[33mCons\u001b[39m(\u001b[32m2\u001b[39m, \u001b[33mCons\u001b[39m(\u001b[32m1\u001b[39m, Nil)))))"
      ]
     },
     "execution_count": 25,
     "metadata": {},
     "output_type": "execute_result"
    }
   ],
   "source": [
    "val c1 = Cons(1, NilCons)\n",
    "val c2 = Cons(2, c1)\n",
    "val c3 = Cons(3, c2)\n",
    "val c4 = Cons(3, c3)\n",
    "val c5 = Cons(6, c4)\n"
   ]
  },
  {
   "cell_type": "code",
   "execution_count": 27,
   "metadata": {},
   "outputs": [
    {
     "data": {
      "text/plain": [
       "defined \u001b[32mfunction\u001b[39m \u001b[36mremoveDups\u001b[39m\n",
       "\u001b[36mprocessed\u001b[39m: \u001b[32mConsInterface\u001b[39m[\u001b[32mInt\u001b[39m] = \u001b[33mCons\u001b[39m(\u001b[32m6\u001b[39m, \u001b[33mCons\u001b[39m(\u001b[32m3\u001b[39m, \u001b[33mCons\u001b[39m(\u001b[32m2\u001b[39m, \u001b[33mCons\u001b[39m(\u001b[32m1\u001b[39m, Nil))))"
      ]
     },
     "execution_count": 27,
     "metadata": {},
     "output_type": "execute_result"
    }
   ],
   "source": [
    "/* Can use a buffer*/\n",
    "def removeDups(list: ConsInterface[Int]) = {\n",
    "\n",
    "    val itemSet = scala.collection.mutable.Set[Int]()\n",
    "    \n",
    "    def _removeDups(list: ConsInterface[Int]) : ConsInterface[Int]  = {\n",
    "        list match {\n",
    "            case NilCons => NilCons\n",
    "            case (Cons(x, innerList)) => {\n",
    "                val innerListDeDuped = _removeDups(innerList)\n",
    "                if (itemSet contains x) {\n",
    "                    innerListDeDuped\n",
    "                } else {\n",
    "                    itemSet += x\n",
    "                    Cons(x, innerListDeDuped)\n",
    "                }\n",
    "            }\n",
    "        }\n",
    "    }\n",
    "    _removeDups(list)\n",
    "}\n",
    "\n",
    "val processed = removeDups(c5)"
   ]
  },
  {
   "cell_type": "code",
   "execution_count": null,
   "metadata": {},
   "outputs": [],
   "source": [
    "/*No buffer can be used*/\n",
    "\n",
    "def removeDupsNoBuffer(list: ConsInterface[Int]) = {\n",
    "    def _hasItem(otherList: ConsInterface[Int], itemToMatch: Int): Int = {\n",
    "        otherList match {\n",
    "            case NilCons => false\n",
    "            case (Cons(x, innerOtherList)) => if (itemToMatch == x) true else _hasItem(innerOtherList, itemToMatch)\n",
    "        }\n",
    "    }\n",
    "    \n",
    "    def _removeDups(list: ConsInterface[Int]) : ConsInterface[Int]  = {\n",
    "        list match {\n",
    "            case NilCons => NilCons\n",
    "            case (Cons(x, innerList)) => {\n",
    "                val innerListDeDuped = _removeDups(innerList)\n",
    "                if (itemSet contains x) {\n",
    "                    innerListDeDuped\n",
    "                } else {\n",
    "                    itemSet += x\n",
    "                    Cons(x, innerListDeDuped)\n",
    "                }\n",
    "            }\n",
    "        }\n",
    "    }\n",
    "    _removeDups(list)\n",
    "}"
   ]
  }
 ],
 "metadata": {
  "kernelspec": {
   "display_name": "Scala",
   "language": "scala",
   "name": "scala"
  },
  "language_info": {
   "codemirror_mode": "text/x-scala",
   "file_extension": ".scala",
   "mimetype": "text/x-scala",
   "name": "scala",
   "nbconvert_exporter": "script",
   "version": "2.12.11"
  }
 },
 "nbformat": 4,
 "nbformat_minor": 4
}
