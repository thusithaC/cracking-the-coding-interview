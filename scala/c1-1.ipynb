{
 "cells": [
  {
   "cell_type": "code",
   "execution_count": 21,
   "metadata": {},
   "outputs": [
    {
     "data": {
      "text/plain": [
       "defined \u001b[32mfunction\u001b[39m \u001b[36misUnique\u001b[39m"
      ]
     },
     "execution_count": 21,
     "metadata": {},
     "output_type": "execute_result"
    }
   ],
   "source": [
    "def isUnique(str: String) = {\n",
    "    val letters = new Array[Int](26)\n",
    "    for (s <- str) {\n",
    "        val charId: Int = ((s toLower) toInt) - ('a' toInt)\n",
    "        letters(charId) += 1\n",
    "    }\n",
    "    !(letters.filter(_ > 1).length > 0)\n",
    "}"
   ]
  },
  {
   "cell_type": "code",
   "execution_count": 38,
   "metadata": {},
   "outputs": [],
   "source": [
    "interp.load.ivy(  \n",
    "  \"org.scalatest\" %% \"scalatest\" % \"3.2.0\"\n",
    ")\n"
   ]
  },
  {
   "cell_type": "code",
   "execution_count": 43,
   "metadata": {},
   "outputs": [
    {
     "name": "stdout",
     "output_type": "stream",
     "text": [
      "\u001b[32mcmd42$Helper$IsUniqueTest:\u001b[0m\n"
     ]
    },
    {
     "data": {
      "text/plain": [
       "\u001b[32mimport \u001b[39m\u001b[36morg.scalatest.flatspec.AnyFlatSpec\n",
       "\u001b[39m\n",
       "\u001b[32mimport \u001b[39m\u001b[36mcollection.mutable.Stack\n",
       "\u001b[39m\n",
       "\u001b[32mimport \u001b[39m\u001b[36morg.scalatest._\n",
       "\n",
       "\u001b[39m\n",
       "defined \u001b[32mclass\u001b[39m \u001b[36mIsUniqueTest\u001b[39m"
      ]
     },
     "execution_count": 43,
     "metadata": {},
     "output_type": "execute_result"
    }
   ],
   "source": [
    "import org.scalatest.flatspec.AnyFlatSpec\n",
    "import collection.mutable.Stack\n",
    "import org.scalatest._\n",
    "\n",
    "class IsUniqueTest extends AnyFlatSpec {\n",
    "    {\n",
    "        assert(isUnique(\"apple\") == false)\n",
    "        assert(isUnique(\"aple\") == true)\n",
    "    }\n",
    "}\n",
    "\n",
    "run(new IsUniqueTest())"
   ]
  }
 ],
 "metadata": {
  "kernelspec": {
   "display_name": "Scala",
   "language": "scala",
   "name": "scala"
  },
  "language_info": {
   "codemirror_mode": "text/x-scala",
   "file_extension": ".scala",
   "mimetype": "text/x-scala",
   "name": "scala",
   "nbconvert_exporter": "script",
   "version": "2.12.11"
  }
 },
 "nbformat": 4,
 "nbformat_minor": 4
}
